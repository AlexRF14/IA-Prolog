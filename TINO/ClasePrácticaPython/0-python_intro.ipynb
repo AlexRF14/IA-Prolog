{
 "cells": [
  {
   "cell_type": "markdown",
   "metadata": {},
   "source": [
    "# Introduction \n",
    "This notebook is intended to provide a concise introduction to Python. At the same time, it should serve you as first contact to Jupyter notebooks. I will assume that you are already familiar with programming and, therefore, this notebook will focus on Python-specific stuff. Due to the intended conciseness of this tutorial, you should pay attention, since some things will be directly presented in the code. A suggestion: when doing exercises don't copy code, retype it to familiarize with the syntax. \n",
    "\n"
   ]
  },
  {
   "cell_type": "markdown",
   "metadata": {},
   "source": [
    "### Exercise:\n",
    "Write down the command that you have used to start the jupyter notebook:"
   ]
  },
  {
   "cell_type": "code",
   "execution_count": 2,
   "metadata": {},
   "outputs": [
    {
     "name": "stdout",
     "output_type": "stream",
     "text": [
      "1\n"
     ]
    }
   ],
   "source": [
    "x = 3 // 2\n",
    "print(x)"
   ]
  },
  {
   "cell_type": "markdown",
   "metadata": {},
   "source": [
    "# Properties and syntax\n",
    "\n",
    "Python was created by [Guido van Rossum](https://en.wikipedia.org/wiki/Guido_van_Rossum) (for which he is the [\"Benevolent Dictator For Life\"](https://en.wikipedia.org/wiki/Benevolent_dictator_for_life)) and first released in 1991. Its name is a tribute to the english comedian group Monty Python.\n",
    "\n",
    "<figure>\n",
    "    <img src=https://upload.wikimedia.org/wikipedia/commons/thumb/6/66/Guido_van_Rossum_OSCON_2006.jpg/1200px-Guido_van_Rossum_OSCON_2006.jpg style=\"width: 200px;\"/>\n",
    "  <center>\n",
    "  <figcaption>van Rossum enjoying a beer. The cool thing is that notebooks support images.</figcaption>\n",
    "  </center>\n",
    "</figure> \n",
    "\n",
    "Python features a dynamic type system (you don't have to declare the type of the variables) and automatic memory management (you don't have to free memory). It supports multiple programming paradigms, including object-oriented, imperative, functional and procedural, and has a large collection of libraries (more about this in a moment).\n",
    "\n",
    "Python has no mandatory statement termination characters (no ; at the end of the lines) and blocks are specified by indentation (No need for curly brackets {}!). Statements that expect an indentation level end in a colon (:).\n",
    "\n",
    "Comments start with the pound sign (#) and are single-line, multiline strings are used for multi-line comments. "
   ]
  },
  {
   "cell_type": "code",
   "execution_count": null,
   "metadata": {},
   "outputs": [
    {
     "name": "stdout",
     "output_type": "stream",
     "text": [
      "5\n",
      "foo is > 4\n",
      "Help on class list in module builtins:\n",
      "\n",
      "class list(object)\n",
      " |  list(iterable=(), /)\n",
      " |\n",
      " |  Built-in mutable sequence.\n",
      " |\n",
      " |  If no argument is given, the constructor creates a new empty list.\n",
      " |  The argument must be an iterable if specified.\n",
      " |\n",
      " |  Methods defined here:\n",
      " |\n",
      " |  __add__(self, value, /)\n",
      " |      Return self+value.\n",
      " |\n",
      " |  __contains__(self, key, /)\n",
      " |      Return bool(key in self).\n",
      " |\n",
      " |  __delitem__(self, key, /)\n",
      " |      Delete self[key].\n",
      " |\n",
      " |  __eq__(self, value, /)\n",
      " |      Return self==value.\n",
      " |\n",
      " |  __ge__(self, value, /)\n",
      " |      Return self>=value.\n",
      " |\n",
      " |  __getattribute__(self, name, /)\n",
      " |      Return getattr(self, name).\n",
      " |\n",
      " |  __getitem__(self, index, /)\n",
      " |      Return self[index].\n",
      " |\n",
      " |  __gt__(self, value, /)\n",
      " |      Return self>value.\n",
      " |\n",
      " |  __iadd__(self, value, /)\n",
      " |      Implement self+=value.\n",
      " |\n",
      " |  __imul__(self, value, /)\n",
      " |      Implement self*=value.\n",
      " |\n",
      " |  __init__(self, /, *args, **kwargs)\n",
      " |      Initialize self.  See help(type(self)) for accurate signature.\n",
      " |\n",
      " |  __iter__(self, /)\n",
      " |      Implement iter(self).\n",
      " |\n",
      " |  __le__(self, value, /)\n",
      " |      Return self<=value.\n",
      " |\n",
      " |  __len__(self, /)\n",
      " |      Return len(self).\n",
      " |\n",
      " |  __lt__(self, value, /)\n",
      " |      Return self<value.\n",
      " |\n",
      " |  __mul__(self, value, /)\n",
      " |      Return self*value.\n",
      " |\n",
      " |  __ne__(self, value, /)\n",
      " |      Return self!=value.\n",
      " |\n",
      " |  __repr__(self, /)\n",
      " |      Return repr(self).\n",
      " |\n",
      " |  __reversed__(self, /)\n",
      " |      Return a reverse iterator over the list.\n",
      " |\n",
      " |  __rmul__(self, value, /)\n",
      " |      Return value*self.\n",
      " |\n",
      " |  __setitem__(self, key, value, /)\n",
      " |      Set self[key] to value.\n",
      " |\n",
      " |  __sizeof__(self, /)\n",
      " |      Return the size of the list in memory, in bytes.\n",
      " |\n",
      " |  append(self, object, /)\n",
      " |      Append object to the end of the list.\n",
      " |\n",
      " |  clear(self, /)\n",
      " |      Remove all items from list.\n",
      " |\n",
      " |  copy(self, /)\n",
      " |      Return a shallow copy of the list.\n",
      " |\n",
      " |  count(self, value, /)\n",
      " |      Return number of occurrences of value.\n",
      " |\n",
      " |  extend(self, iterable, /)\n",
      " |      Extend list by appending elements from the iterable.\n",
      " |\n",
      " |  index(self, value, start=0, stop=9223372036854775807, /)\n",
      " |      Return first index of value.\n",
      " |\n",
      " |      Raises ValueError if the value is not present.\n",
      " |\n",
      " |  insert(self, index, object, /)\n",
      " |      Insert object before index.\n",
      " |\n",
      " |  pop(self, index=-1, /)\n",
      " |      Remove and return item at index (default last).\n",
      " |\n",
      " |      Raises IndexError if list is empty or index is out of range.\n",
      " |\n",
      " |  remove(self, value, /)\n",
      " |      Remove first occurrence of value.\n",
      " |\n",
      " |      Raises ValueError if the value is not present.\n",
      " |\n",
      " |  reverse(self, /)\n",
      " |      Reverse *IN PLACE*.\n",
      " |\n",
      " |  sort(self, /, *, key=None, reverse=False)\n",
      " |      Sort the list in ascending order and return None.\n",
      " |\n",
      " |      The sort is in-place (i.e. the list itself is modified) and stable (i.e. the\n",
      " |      order of two equal elements is maintained).\n",
      " |\n",
      " |      If a key function is given, apply it once to each list item and sort them,\n",
      " |      ascending or descending, according to their function values.\n",
      " |\n",
      " |      The reverse flag can be set to sort in descending order.\n",
      " |\n",
      " |  ----------------------------------------------------------------------\n",
      " |  Class methods defined here:\n",
      " |\n",
      " |  __class_getitem__(...)\n",
      " |      See PEP 585\n",
      " |\n",
      " |  ----------------------------------------------------------------------\n",
      " |  Static methods defined here:\n",
      " |\n",
      " |  __new__(*args, **kwargs)\n",
      " |      Create and return a new object.  See help(type) for accurate signature.\n",
      " |\n",
      " |  ----------------------------------------------------------------------\n",
      " |  Data and other attributes defined here:\n",
      " |\n",
      " |  __hash__ = None\n",
      "\n"
     ]
    }
   ],
   "source": [
    "# Note that there are no statement termination characters\n",
    "foo = 3\n",
    "print(foo)\n",
    "\n",
    "\"\"\"\n",
    "This is a very long comment that\n",
    "spreads\n",
    "several lines\n",
    "\"\"\"\n",
    "\n",
    "# To start a block, indent. To end a block, deindent. For example:\n",
    "if foo > 4: # Note the use of :, stating that a indent is expected\n",
    "    print('foo is > 4')\n",
    "else:\n",
    "    print('foo is <= 4')\n",
    "\n",
    "# You can get help about a objects and functions using help:\n",
    "help(list)\n"
   ]
  },
  {
   "cell_type": "markdown",
   "metadata": {},
   "source": [
    "# Basic operators\n",
    "Python supports the usual arithmetic and logical operators. \n",
    "\n",
    "## Arithmetic Operators\n",
    "\n",
    "| Symbol | Operation |\n",
    "|----|---|\n",
    "| +  | Addition |\n",
    "| -  | Subtraction |\n",
    "| /  | division |\n",
    "| %  | mod |\n",
    "| *  | multiplication |\n",
    "| //  | floor division |\n",
    "| **  | to the power of |\n"
   ]
  },
  {
   "cell_type": "markdown",
   "metadata": {},
   "source": [
    "## Comparison and logical operators\n",
    "Note that the boolean data values are defined as *True* or *False*.\n",
    "\n",
    "| Symbol | Operation |\n",
    "|----|---|\n",
    "| == | True, if it is equal |\n",
    "| !=  | True, if not equal to |\n",
    "| < | less than |\n",
    "| > | greater than |\n",
    "| <=  | less than or equal to |\n",
    "| >=  | greater than or equal to |\n",
    "| and | Logical and operator|\n",
    "| or | Logical or operator |\n",
    "| not| Logical not operator|\n"
   ]
  },
  {
   "cell_type": "markdown",
   "metadata": {},
   "source": [
    "### Exercise\n",
    "Familiarize with the operators by using them in some simple operations."
   ]
  },
  {
   "cell_type": "markdown",
   "metadata": {},
   "source": [
    "# Importing\n",
    "Although Python provides lots of built-in functions, external libraries are often necessary (particularly, when doing scientific programming). External libreries are imported with the *import [library name]* statement. \n",
    "\n",
    "Anaconda ships with many preinstalled libraries. To install a library named `XXX` you should open an operating system terminal and type `conda install XXX` or `pip install XXXX`."
   ]
  },
  {
   "cell_type": "code",
   "execution_count": 6,
   "metadata": {},
   "outputs": [
    {
     "name": "stdout",
     "output_type": "stream",
     "text": [
      "-1.0\n",
      "1.2246467991473532e-16\n",
      "-0.2052575914727749\n",
      "0.558609792699377\n"
     ]
    }
   ],
   "source": [
    "import math\n",
    "# functions from a library are called using the library name as 'prefix'\n",
    "print(math.cos(math.pi))\n",
    "\n",
    "# However, we can also import specific functions, which permits to call them directly\n",
    "from math import sin\n",
    "print(sin(math.pi))\n",
    "\n",
    "# Some libraries have submodules which can be independently loaded from the other submodules of the library\n",
    "import numpy.random\n",
    "print(numpy.random.normal())\n",
    "\n",
    "# You can create alias to refer to a specific module or function and save typing time\n",
    "import numpy.random as rd\n",
    "print(rd.normal())"
   ]
  },
  {
   "cell_type": "markdown",
   "metadata": {},
   "source": [
    "### Exercise\n",
    "Search for the differences between `pip install` and `anaconda install`."
   ]
  },
  {
   "cell_type": "markdown",
   "metadata": {},
   "source": [
    "# Flow control statements\n",
    "Flow control statements are *if*, *for*, and *while*. But there is no switch!! To generate a list of numbers to use with *for* statements, use the *range* function."
   ]
  },
  {
   "cell_type": "code",
   "execution_count": 89,
   "metadata": {},
   "outputs": [
    {
     "name": "stdout",
     "output_type": "stream",
     "text": [
      "1 is odd\n",
      "2 is even\n",
      "3 is odd\n",
      "-----\n",
      "1 is odd\n",
      "2 is even\n",
      "3 is odd\n"
     ]
    }
   ],
   "source": [
    "numbers = range(1, 4)\n",
    "\n",
    "for number in numbers:\n",
    "    if number % 2 == 0:\n",
    "        print(str(number) + ' is even') # numbers should be casted to strings (see below) before printing\n",
    "    else:\n",
    "        print(str(number) + ' is odd')\n",
    "\n",
    "# Another way of implementing it:\n",
    "print('-----')\n",
    "number = 1\n",
    "while number < 4:\n",
    "    if number % 2 == 0:\n",
    "        print(str(number) + ' is even')\n",
    "    else:\n",
    "        print(str(number) + ' is odd')\n",
    "    number += 1     "
   ]
  },
  {
   "cell_type": "markdown",
   "metadata": {},
   "source": [
    "`enumerate` and `zip` are really useful with `for` loops:"
   ]
  },
  {
   "cell_type": "code",
   "execution_count": 3,
   "metadata": {},
   "outputs": [
    {
     "name": "stdout",
     "output_type": "stream",
     "text": [
      "0 Lovelace\n",
      "1 Gauss\n",
      "2 Franklin\n",
      "Lovelace studies computer science\n",
      "Gauss studies f** everything\n",
      "Franklin studies biology\n"
     ]
    }
   ],
   "source": [
    "# These are lists which are explained later\n",
    "scientists = ['Lovelace', 'Gauss', 'Franklin']\n",
    "fields = ['computer science', 'f** everything', 'biology']\n",
    "\n",
    "for i, scientist in enumerate(scientists):\n",
    "    print(i, scientist)\n",
    "    \n",
    "for field, scientist in zip(fields, scientists):\n",
    "    print(scientist, 'studies', field)"
   ]
  },
  {
   "cell_type": "markdown",
   "metadata": {},
   "source": [
    "### Exercise\n",
    "Given a list of numbers, print all its elements that are greater than the previous one."
   ]
  },
  {
   "cell_type": "code",
   "execution_count": 25,
   "metadata": {},
   "outputs": [
    {
     "name": "stdout",
     "output_type": "stream",
     "text": [
      "0 < 1 < 2 < 3 < 4 < 5 < 6 < 7 < 8 < 9 < "
     ]
    }
   ],
   "source": [
    "\n",
    "\n",
    "for i in range(10):\n",
    "    print(str(i) + \" < \" , end = \"\" )"
   ]
  },
  {
   "cell_type": "markdown",
   "metadata": {},
   "source": [
    "### Exercise\n",
    "Given a list of numbers, find its minimum and maximum values using a loop and basic comparisons."
   ]
  },
  {
   "cell_type": "markdown",
   "metadata": {},
   "source": [
    "### Exercise\n",
    "Compute the factorial of a number n. Don't use the math module in this exercise, use a loop."
   ]
  },
  {
   "cell_type": "markdown",
   "metadata": {},
   "source": [
    "### Exercise\n",
    "Given a non-negative integer n, print the n-th [Fibonacci number](https://en.wikipedia.org/wiki/Fibonacci_number)."
   ]
  },
  {
   "cell_type": "markdown",
   "metadata": {},
   "source": [
    "# Data structures\n",
    "There are many data structures in Python. Here, we only present the most important ones for illustrative purposes. However, if you feel that you need a different data structure from those presented here search the web. There is surely a Python structure that suits your needs. For a more complete reference, see [this](https://docs.python.org/2/tutorial/datastructures.html).\n",
    "## Lists\n",
    "\n",
    "Lists are the most commonly used data structure. A list is a sequence of data that is enclosed in square brackets. Each of these data can be accessed by calling its index value. In python, **indexes start at 0**.\n"
   ]
  },
  {
   "cell_type": "code",
   "execution_count": 26,
   "metadata": {},
   "outputs": [
    {
     "name": "stdout",
     "output_type": "stream",
     "text": [
      "--- basics ---\n",
      "<class 'list'>\n",
      "[0, 1, 2, 3, 4, 5, 6, 7, 8, 9]\n",
      "[0, 1, 2, 3, 4, 5, 6, 7, 8, 9]\n",
      "[1, 'waka waka', 3.14, [0, 1, 2, 3, 4, 5, 6, 7, 8, 9]]\n",
      "--- indexing ---\n",
      "0\n",
      "9\n",
      "8\n",
      "--- slicing ---\n",
      "[0, 1, 2, 3, 4]\n",
      "[4, 5, 6, 7, 8, 9]\n",
      "[0, 1, 2, 3]\n"
     ]
    }
   ],
   "source": [
    "print('--- basics ---')\n",
    "a = []\n",
    "print(type(a))\n",
    "# Add data to the list with append\n",
    "for i in range(10):\n",
    "    a.append(i)\n",
    "print(a)\n",
    "# We could have created a list similar to 'a' directly\n",
    "b = [0, 1, 2, 3, 4, 5, 6, 7, 8, 9]\n",
    "print(b)\n",
    "# Lists can have heterogeneous elements, including another lists\n",
    "c = [1, 'waka waka', 3.14, a]\n",
    "print(c)\n",
    "\n",
    "print('--- indexing ---')\n",
    "# In python, Indexing starts at 0!!\n",
    "print(a[0])\n",
    "# Indexing can also be done in reverse order, using negative values\n",
    "print(a[-1]) # the last element\n",
    "print(a[-2]) # penultimate\n",
    "\n",
    "print('--- slicing ---')\n",
    "# We can also simultaneously access to several items. This operation is known as 'slicing':\n",
    "# Note that the first index is included in the slice, buth the last index is not.\n",
    "print(a[0:5])\n",
    "# The colon mark can be used to access the 'remainder' of the items\n",
    "print(a[4:]) # from index 4 to the end\n",
    "print(a[:4]) # from the start to index 4"
   ]
  },
  {
   "cell_type": "markdown",
   "metadata": {},
   "source": [
    "Something that is really import to comprehend since it is a source of bugs, is that **assignment does not create a copy of the list**:"
   ]
  },
  {
   "cell_type": "code",
   "execution_count": 30,
   "metadata": {},
   "outputs": [
    {
     "name": "stdout",
     "output_type": "stream",
     "text": [
      "[0, 1, 2, 10000, 4, 5, 6, 7, 8, 9]\n",
      "[0, 1, 2, 3, 4, 5, 6, 7, 8, 9]\n"
     ]
    }
   ],
   "source": [
    "c = a # Now c holds a REFERENCE to list a\n",
    "# if we modify c, we are modifying a\n",
    "c[3] = 10000\n",
    "print(a)\n",
    "\n",
    "# To create a copy: use copy()\n",
    "import copy\n",
    "c = copy.copy(b)\n",
    "c[3] = 10000\n",
    "print(b)"
   ]
  },
  {
   "cell_type": "markdown",
   "metadata": {},
   "source": [
    "To copy a list, we need to import the *copy* module. This is an inconvenient exception, since most of the time Python provides built-in functions an methods to manipulate lists, without the need of importing modules. Here, we only present a few illustrative examples. For a complete reference, see [python lists](https://docs.python.org/2/tutorial/datastructures.html)."
   ]
  },
  {
   "cell_type": "code",
   "execution_count": 31,
   "metadata": {},
   "outputs": [
    {
     "name": "stdout",
     "output_type": "stream",
     "text": [
      "10\n",
      "0\n",
      "10000\n",
      "True\n",
      "False\n",
      "[0, 1, 2, 10000, 4, 5, 6, 7, 8, 9, 0, 1, 2, 3, 4, 5, 6, 7, 8, 9]\n"
     ]
    }
   ],
   "source": [
    "# Some easy to understand functions\n",
    "print(len(a))\n",
    "print(min(a))\n",
    "print(max(a))\n",
    "# Append items, delete items or concatenate another list\n",
    "a.append(-100)\n",
    "print(-100 in a) # check if -100 is in a\n",
    "del a[-1] # Delete the item we have just added, note that negative numbers permit to refer to the last items of a list\n",
    "print(-100 in a) \n",
    "print(a + b) # concatenate two lists"
   ]
  },
  {
   "cell_type": "markdown",
   "metadata": {},
   "source": [
    "Python makes it simple to generate a required list with a single line of code using the so-called *list comprehensions*. Learn to use them!"
   ]
  },
  {
   "cell_type": "code",
   "execution_count": null,
   "metadata": {},
   "outputs": [
    {
     "ename": "SyntaxError",
     "evalue": "invalid syntax (4047815992.py, line 2)",
     "output_type": "error",
     "traceback": [
      "\u001b[1;36m  Cell \u001b[1;32mIn[34], line 2\u001b[1;36m\u001b[0m\n\u001b[1;33m    print(for i in range(1, 11))\u001b[0m\n\u001b[1;37m          ^\u001b[0m\n\u001b[1;31mSyntaxError\u001b[0m\u001b[1;31m:\u001b[0m invalid syntax\n"
     ]
    }
   ],
   "source": [
    "# Generate the first 10 multiples of 3\n",
    "print([3 * i for i in range(1, 11)])\n",
    "\n",
    "# We can also filter the results! For example, we could exclude even numbers from the previous list\n",
    "print([3 * i for i in range(1, 11) if i % 2 != 0])\n"
   ]
  },
  {
   "cell_type": "markdown",
   "metadata": {},
   "source": [
    "### Exercise\n",
    "Given a list of numbers, find the indexes that sort the list."
   ]
  },
  {
   "cell_type": "markdown",
   "metadata": {},
   "source": [
    "### Exercise\n",
    "Given a list of numbers, swap the minimal and maximal elements of this list."
   ]
  },
  {
   "cell_type": "markdown",
   "metadata": {},
   "source": [
    "### Exercise\n",
    "Given a list of integers, transform the list by applying the cos() function to even numbers, and the sin() function to odd numbers."
   ]
  },
  {
   "cell_type": "markdown",
   "metadata": {},
   "source": [
    "## Tuples\n",
    "Tuples are a variant of lists. Tuples are fixed size in nature (inmutable) whereas lists are dynamic (mutable).\n",
    "* You can't add elements to a tuple. Tuples have no append or extend method.\n",
    "* You can't remove elements from a tuple. Tuples have no remove or pop method.\n",
    "* Because of the inmutability thing, tuples are hashable, but lists are not.\n",
    "* You can find elements in a tuple or use the *in* operator, since these operations do not change the tuple.\n",
    "* As we shall see, tuples are very handy to return several values from a function."
   ]
  },
  {
   "cell_type": "code",
   "execution_count": 1,
   "metadata": {},
   "outputs": [
    {
     "name": "stdout",
     "output_type": "stream",
     "text": [
      "<class 'tuple'>\n",
      "<class 'tuple'>\n",
      "6\n",
      "True\n"
     ]
    }
   ],
   "source": [
    "t = (1, 5, 6)\n",
    "t2 = 1, 5, 6 # an alternative\n",
    "print(type(t))\n",
    "print(type(t2))\n",
    "print(t[2])\n",
    "print(5 in t)"
   ]
  },
  {
   "cell_type": "markdown",
   "metadata": {},
   "source": [
    "## Dictionaries\n",
    "A dictionary stores (key, value) pairs, like a hash table."
   ]
  },
  {
   "cell_type": "code",
   "execution_count": 95,
   "metadata": {},
   "outputs": [
    {
     "name": "stdout",
     "output_type": "stream",
     "text": [
      "dict_keys(['Gauss', 'Einstein', 'Bohr'])\n",
      "algebra\n",
      "dict_values(['algebra', 'relativity', 'atoms'])\n",
      "Gauss likes algebra\n",
      "Einstein likes relativity\n",
      "Bohr likes atoms\n"
     ]
    }
   ],
   "source": [
    "x = {'Gauss': 'algebra', 'Einstein': 'relativity', 'Bohr': 'atoms'}\n",
    "\n",
    "print(x.keys()) # See all the keys\n",
    "print(x['Gauss']) # Get an entry of the dictionary\n",
    "print(x.values()) # See all the values\n",
    "\n",
    "for key, value in x.items():\n",
    "    print(key + ' likes ' + value) # + is used to concatenate strings (see below)"
   ]
  },
  {
   "cell_type": "markdown",
   "metadata": {},
   "source": [
    "### Exercise\n",
    "Given a single line string, count the number of occurrences of each word in the text. Print the result by looping through the dictionary."
   ]
  },
  {
   "cell_type": "markdown",
   "metadata": {},
   "source": [
    "### Exercise \n",
    "The following dictionary contains some DNA sequences that produce some diseases (not real at all):\n",
    "{'ATA': 'cancer', 'GAC': 'depression', 'CTG': 'obesity'}\n",
    "The following dictionary contains sequences found in some patients:\n",
    "{'Fernando': 'GAC', 'Juana': 'GAC', 'Isabel': 'ATA'}\n",
    "\n",
    "Print the patient and the diagnosis, without showing the DNA sequence."
   ]
  },
  {
   "cell_type": "markdown",
   "metadata": {},
   "source": [
    "## Strings\n",
    "Strings represent text data which can be defined by enclosing characters in single/double/triple quotes:\n"
   ]
  },
  {
   "cell_type": "code",
   "execution_count": 2,
   "metadata": {},
   "outputs": [],
   "source": [
    "text1 = 'Patient file /tmp/data/patient_01.txt, diagnosis: SICK'\n",
    "text2 = \"Patient file /tmp/data/patient_02.txt, diagnosis: HEALTHY\"\n",
    "text3 = \"\"\"Patient file \n",
    "/tmp/data/patient_03.txt, diagnosis: SICK\n",
    "\"\"\""
   ]
  },
  {
   "cell_type": "markdown",
   "metadata": {},
   "source": [
    "Python strings are objects and provide several useful methods. "
   ]
  },
  {
   "cell_type": "code",
   "execution_count": 3,
   "metadata": {},
   "outputs": [
    {
     "name": "stdout",
     "output_type": "stream",
     "text": [
      "The diagnosis for Patient 03 is: sick\n",
      "\n"
     ]
    }
   ],
   "source": [
    "# Let's try to modify text3 to output: The diagnosis for Patient 03 is: sick\n",
    "# Eliminate string break: note that there is no need to do an assignment since text3 is an object (it mutates).\n",
    "text3.replace('\\n', '')\n",
    "\n",
    "# find the indexes of '_' and '. and pick the number in between\n",
    "number = text3[(text3.find('_') + 1):text3.find('.')]\n",
    "diagnosis = text3[(text3.find(':') + 1):]\n",
    "# transform the diagnosis to lowercase. In this case, the function does return a new string!\n",
    "diagnosis = diagnosis.lower()\n",
    "\n",
    "# Concatenate the partial results with + to get the final string:\n",
    "message = 'The diagnosis for Patient ' + number + ' is:' + diagnosis\n",
    "print(message)\n"
   ]
  },
  {
   "cell_type": "markdown",
   "metadata": {},
   "source": [
    "### String formatting\n",
    "Python is capable of doing some amazing string formatting. For a more detailed reference, see [this page](https://realpython.com/python-f-strings/)."
   ]
  },
  {
   "cell_type": "code",
   "execution_count": 1,
   "metadata": {},
   "outputs": [
    {
     "name": "stdout",
     "output_type": "stream",
     "text": [
      "one ---> two\n",
      "one ---> two\n",
      "one ---> two\n",
      "two ---> one\n"
     ]
    }
   ],
   "source": [
    "var_one = 'one'\n",
    "var_two = 'two'\n",
    "# There are three different styles for string formatting:\n",
    "# f-strings\n",
    "print(f\"{var_one} ---> {var_two}\")\n",
    "# The old style ...\n",
    "print('%s ---> %s' % (var_one, var_two))\n",
    "# ... and the new style\n",
    "print('{} ---> {}'.format(var_one, var_two))\n",
    "# The new style permits to rearrange the order of display \n",
    "print('{1} ---> {0}'.format(var_one, var_two))"
   ]
  },
  {
   "cell_type": "markdown",
   "metadata": {},
   "source": [
    "In the previous code chunk *%s* is used to refer to a variable which is a string. Other data types are available:\n",
    "* %s -> string\n",
    "* %d -> Integer\n",
    "* %f -> Float\n",
    "* %o -> Octal\n",
    "* %x -> Hexadecimal\n",
    "* %e -> exponential"
   ]
  },
  {
   "cell_type": "code",
   "execution_count": 99,
   "metadata": {},
   "outputs": [
    {
     "name": "stdout",
     "output_type": "stream",
     "text": [
      "42\n",
      "42\n",
      "003.14\n",
      "003.14\n"
     ]
    }
   ],
   "source": [
    "print('%d' % (42,))\n",
    "print('{:d}'.format(42))\n",
    "\n",
    "\"\"\" It is possible to specify the number of digits. In the following example we want \n",
    "out output to have at least 6 characters with 2 after the decimal point.\"\"\"\n",
    "print('%06.2f' % (3.141592653589793,))\n",
    "print('{:06.2f}'.format(3.141592653589793))"
   ]
  },
  {
   "cell_type": "markdown",
   "metadata": {},
   "source": [
    "### Exercise\n",
    "Create a list with [text1, text2] and iterate it to create a list of patient numbers and diagnosis. Then use string formatting to output a message per patient of the style: 'The diagnosis for Patient XXX is: XXX'"
   ]
  },
  {
   "cell_type": "code",
   "execution_count": null,
   "metadata": {},
   "outputs": [],
   "source": []
  },
  {
   "cell_type": "markdown",
   "metadata": {},
   "source": [
    "# Functions\n",
    "Python functions accept optional arguments, which are specified by being assigned a default value. For named arguments, the name of the argument is assigned a value. Functions can return several values as a tuple. **Parameters are passed by reference**, so be careful when changing an input variable inside a function. However, note that immutable types (tuples, ints, strings, etc) cannot be changed."
   ]
  },
  {
   "cell_type": "code",
   "execution_count": 100,
   "metadata": {},
   "outputs": [
    {
     "name": "stdout",
     "output_type": "stream",
     "text": [
      "a is 1\n",
      "b is 1\n",
      "c is 1\n",
      "3\n",
      "--\n",
      "a is 1\n",
      "b is 1\n",
      "c is 1\n",
      "3\n",
      "--\n",
      "a is 1\n",
      "b is 2\n",
      "c is 3\n",
      "6\n",
      "--\n",
      "[1, 2, 3]\n",
      "0\n",
      "['boom', 2, 3]\n",
      "0\n",
      "min is -4, max is 436\n"
     ]
    }
   ],
   "source": [
    "def sum_numbers(a, b, c=1):\n",
    "    print('a is ' + str(a))\n",
    "    print('b is ' + str(b))\n",
    "    print('c is ' + str(c))\n",
    "    return a + b + c\n",
    "\n",
    "print(sum_numbers(1, 1, 1))\n",
    "print('--')\n",
    "print(sum_numbers(1, 1)) # make use of default argument\n",
    "print('--')\n",
    "print(sum_numbers(c=3, b=2, a=1)) # you can change the order of the params using named arguments\n",
    "print('--')\n",
    "# This yields an exception: after a named argument there can't be an unnamed argument\n",
    "#print sum_numbers(1, b=2, 1) # you can change the order of the params using named arguments\n",
    "\n",
    "# Bear in mind that the arguments are passed by reference!!\n",
    "def change_value(a, b):\n",
    "    a[0] = 'boom'\n",
    "    b = 3 # This won't change external b\n",
    "a = [1, 2, 3]\n",
    "b = 0\n",
    "print(a)\n",
    "print(b)\n",
    "change_value(a, b)\n",
    "print(a)\n",
    "print(b)\n",
    "\n",
    "# We can return several values and unpack them comfortably\n",
    "def min_max(x):\n",
    "    return min(x), max(x) # This is a tuple\n",
    "\n",
    "m, M = min_max([3,436,12, -4])\n",
    "print('min is {}, max is {}'.format(m, M))"
   ]
  },
  {
   "cell_type": "markdown",
   "metadata": {},
   "source": [
    "### Exercise\n",
    "Given a list of numbers and a test number, write a function that powers each number of the list to the square and then returns the closest value of the resulting list to the test number. Make sure that the original list is not modified."
   ]
  },
  {
   "cell_type": "markdown",
   "metadata": {},
   "source": [
    "### Exercise\n",
    "Write a function that returns the n-th fibonacci number by using recursion."
   ]
  },
  {
   "cell_type": "markdown",
   "metadata": {},
   "source": [
    "# Classes\n",
    "\n",
    "Python supports object-oriented programming. If the name of a Python function, class method, or attribute starts with (but doesn't end with) two underscores, it's private; everything else is public. However, this is only a convention, since private members are not enforced by the language."
   ]
  },
  {
   "cell_type": "code",
   "execution_count": 7,
   "metadata": {},
   "outputs": [
    {
     "name": "stdout",
     "output_type": "stream",
     "text": [
      "bark!bark!bark!bark!\n",
      "guau!guau!guau!\n"
     ]
    }
   ],
   "source": [
    "class Dog(object):\n",
    "    def __init__(self, name, age):\n",
    "        self.name = name\n",
    "        self.age = age\n",
    "     \n",
    "    # Note that all methods start with self, which refers to the object itself\n",
    "    def bark_age(self):\n",
    "        barks = ''\n",
    "        for _ in range(self.age):\n",
    "            barks += 'bark!'\n",
    "        print(barks)\n",
    "\n",
    "rex = Dog('Rex', 4)\n",
    "rex.bark_age()\n",
    "\n",
    "# Python suppors inheritances\n",
    "class SpanishDog(Dog):\n",
    "    def __init__(self, name, age):\n",
    "        # call the parent constructor\n",
    "        super().__init__(name, age)\n",
    "        # Add a private member\n",
    "        self.__spanish = True\n",
    "        \n",
    "    # Override the bark_age method\n",
    "    def bark_age(self):\n",
    "        barks = ''\n",
    "        for _ in range(self.age):\n",
    "            barks += 'guau!'\n",
    "        print(barks)\n",
    "        \n",
    "pancho = SpanishDog('pancho', 3)\n",
    "pancho.bark_age()\n",
    "    "
   ]
  },
  {
   "cell_type": "markdown",
   "metadata": {},
   "source": [
    "### Exercise\n",
    "The code for bark_age is very similar in both *Dog* and *SpanishDog*, which suggests we could have done better (repetition of code is a bad sign). Improve the class design by creating a method *bark()* in *Dog* which is then overloaded by *SpanishDog*. In this way, there is no need to override *bark_age*. "
   ]
  },
  {
   "cell_type": "markdown",
   "metadata": {},
   "source": [
    "# Numpy\n",
    "Numpy is the core library for scientific computing in Python, providing support for multi-dimensional arraysand  large collection of high-level mathematical functions to operate them. If you are familiar with MATLAB, you might find [this tutorial](http://scipy.github.io/old-wiki/pages/NumPy_for_Matlab_Users) useful. A more extensible introduction that the one presented here may be found [here](https://docs.scipy.org/doc/numpy-dev/user/quickstart.html).\n"
   ]
  },
  {
   "cell_type": "code",
   "execution_count": 5,
   "metadata": {},
   "outputs": [
    {
     "name": "stdout",
     "output_type": "stream",
     "text": [
      "(3,)\n",
      "[2.         3.14159265]\n",
      "(4, 3)\n",
      "[[ 4  5  6]\n",
      " [ 7  8  9]\n",
      " [10 11 12]]\n",
      "[[ 1  2  3  4]\n",
      " [ 5  6  7  8]\n",
      " [ 9 10 11 12]]\n",
      "[[0. 0.]\n",
      " [0. 0.]]\n",
      "[1.]\n",
      "[3.  3.1 3.2 3.3 3.4 3.5 3.6 3.7 3.8 3.9]\n",
      "[[7 7 7]\n",
      " [7 7 7]]\n",
      "[[1. 0.]\n",
      " [0. 1.]]\n",
      "[[0.03710064 0.67877983 0.3669046 ]\n",
      " [0.39540788 0.6220213  0.57657523]]\n"
     ]
    }
   ],
   "source": [
    "import numpy as np\n",
    "\n",
    "# create a vectors\n",
    "a = np.array([1, 2, np.pi])   \n",
    "print(a.shape)     \n",
    "# slicing and indexing works just like lists\n",
    "print(a[1:])\n",
    "\n",
    "# create a matrix\n",
    "b = np.array([[1,2,3],[4,5,6], [7,8,9], [10, 11, 12]])    \n",
    "print(b.shape) \n",
    "# Use : to access to all the columns\n",
    "print(b[1:, :])\n",
    "# Reshape to change the shape from (4, 3) to (3, 4)\n",
    "print(b.reshape((3, 4)))\n",
    "\n",
    "\n",
    "# Numpy provides a lot of functions to easily create vectors and matrices\n",
    "c = np.zeros((2,2))   \n",
    "print(c)\n",
    "\n",
    "d = np.ones((1,))    \n",
    "print(d)\n",
    "\n",
    "e = np.arange(3, 4, 0.1)\n",
    "print(e)\n",
    "\n",
    "f = np.full((2,3), 7)  \n",
    "print(f)        \n",
    "\n",
    "g = np.eye(2)        \n",
    "print(g)        \n",
    "\n",
    "h = np.random.random((2,3))  \n",
    "print(h)\n",
    "\n"
   ]
  },
  {
   "cell_type": "code",
   "execution_count": 6,
   "metadata": {},
   "outputs": [
    {
     "name": "stdout",
     "output_type": "stream",
     "text": [
      "[0.19983342 0.52998068 0.80959145 1.042828  ]\n",
      "[-1.66583353e-04  1.55814938e-01  3.19693499e-01  4.59732810e-01]\n",
      "[0.00998334 0.06415031 0.13830859 0.219034  ]\n",
      "[0.99833417 1.83286588 2.30514324 2.57687053]\n"
     ]
    }
   ],
   "source": [
    "# Basic mathematical functions that operate elementwise on arrays\n",
    "x = np.arange(0.1, 1, 0.25)\n",
    "y = np.sin(x) # np.sin, np.exp, np.log, ...\n",
    "z = np.sqrt(0.1 * x)\n",
    "\n",
    "print(y + z) # or np.add(y, z)\n",
    "print(y - z) # or np.subract(y, z)\n",
    "print(y * z) # or np.multiply(y, z)\n",
    "print(y / z) # or np.divide(y, z)\n"
   ]
  },
  {
   "cell_type": "code",
   "execution_count": 9,
   "metadata": {},
   "outputs": [
    {
     "name": "stdout",
     "output_type": "stream",
     "text": [
      "[0.03536652 0.14132711 0.06279634]\n",
      "[0.03536652 0.14132711 0.06279634]\n",
      "[0.59985988 0.56047791]\n",
      "0.8374463471107223\n",
      "[[0.90418035 0.61104192]\n",
      " [0.61104192 0.7561668 ]]\n"
     ]
    }
   ],
   "source": [
    "# Linear algebra: dot products and transposition\n",
    "A = np.random.random((3, 2))\n",
    "b = np.random.random((2,))\n",
    "c = np.random.random((3, ))\n",
    "print(np.dot(A, b))\n",
    "print(np.dot(b, A.T))\n",
    "print(np.dot(c, A))\n",
    "print(np.dot(c, c))\n",
    "print(np.dot(A.T, A))\n",
    "\n"
   ]
  },
  {
   "cell_type": "code",
   "execution_count": 10,
   "metadata": {},
   "outputs": [
    {
     "name": "stdout",
     "output_type": "stream",
     "text": [
      "[[1 2]\n",
      " [3 4]]\n",
      "10\n",
      "[4 6]\n",
      "[3 7]\n"
     ]
    }
   ],
   "source": [
    "# Operations by dimension\n",
    "x = np.array([[1,2],[3,4]])\n",
    "print(x)\n",
    "\n",
    "# Also possible with mean, std, etc.\n",
    "print(np.sum(x))\n",
    "print(np.sum(x, axis=0)) # sum by column\n",
    "print(np.sum(x, axis=1)) # sum by row"
   ]
  },
  {
   "cell_type": "markdown",
   "metadata": {},
   "source": [
    "# Pandas\n",
    "Pandas is a powerful Python library used for data manipulation and analysis. It provides data structures like DataFrame and Series, which make it easier to handle tabular data. \n",
    "\n",
    "Why not use a numpy array for tabular data? A numpy array requires all elements to have the same data type, whereas DataFrames allow different data types for each column.\n",
    "\n",
    "Here, we’ll cover some essential operations using pandas."
   ]
  },
  {
   "cell_type": "code",
   "execution_count": 12,
   "metadata": {},
   "outputs": [
    {
     "name": "stdout",
     "output_type": "stream",
     "text": [
      "      Name  Age  Salary\n",
      "0    Alice   25   50000\n",
      "1      Bob   30   60000\n",
      "2  Charlie   35   70000\n",
      "********************\n",
      "0      Alice\n",
      "1        Bob\n",
      "2    Charlie\n",
      "Name: Name, dtype: object\n",
      "********************\n",
      "Name      Alice\n",
      "Age          25\n",
      "Salary    50000\n",
      "Name: 0, dtype: object\n",
      "********************\n",
      "    Name  Age  Salary\n",
      "0  Alice   25   50000\n",
      "1    Bob   30   60000\n",
      "********************\n",
      "      Name  Age  Salary   Bonus\n",
      "0    Alice   25   50000  5000.0\n",
      "1      Bob   30   60000  6000.0\n",
      "2  Charlie   35   70000  7000.0\n",
      "********************\n",
      "      Name  Age  Salary   Bonus\n",
      "1      Bob   30   60000  6000.0\n",
      "2  Charlie   35   70000  7000.0\n"
     ]
    }
   ],
   "source": [
    "import pandas as pd\n",
    "\n",
    "# Creating a DataFrame:\n",
    "# You can create a DataFrame from a dictionary where the keys\n",
    "# are column names and the values are lists of data:\n",
    "data = {\n",
    "    'Name': ['Alice', 'Bob', 'Charlie'],\n",
    "    'Age': [25, 30, 35],\n",
    "    'Salary': [50000, 60000, 70000]\n",
    "}\n",
    "\n",
    "df = pd.DataFrame(data)\n",
    "print(df)\n",
    "print(\"*\" * 20)\n",
    "\n",
    "# Accessing columns\n",
    "print(df['Name'])\n",
    "print(\"*\" * 20)\n",
    "\n",
    "# Accessing Rows Using iloc\n",
    "# Accessing the first row\n",
    "print(df.iloc[0])\n",
    "print(\"*\" * 20)\n",
    "# Accessing multiple rows\n",
    "print(df.iloc[0:2])\n",
    "print(\"*\" * 20)\n",
    "\n",
    "# Adding a new column\n",
    "# Adding a new column 'Bonus' which is 10% of the Salary\n",
    "df['Bonus'] = df['Salary'] * 0.1\n",
    "print(df)\n",
    "print(\"*\" * 20)\n",
    "\n",
    "# Filtering Data\n",
    "filtered_df = df[df['Age'] > 28]\n",
    "print(filtered_df)\n",
    "\n"
   ]
  },
  {
   "cell_type": "markdown",
   "metadata": {},
   "source": [
    "# Matplotlib\n",
    "Matplotlib is a plotting library. Here we only discuss a brief introduction to the matplotlib.pyplot module, which provides a plotting system similar to MATLAB. To include plots inside a *jupyter notebook*, the *%matplotlib inline* command should also be included."
   ]
  },
  {
   "cell_type": "code",
   "execution_count": 17,
   "metadata": {},
   "outputs": [
    {
     "data": {
      "image/png": "[encoded data removed]",
      "text/plain": [
       "<Figure size 640x480 with 1 Axes>"
      ]
     },
     "metadata": {},
     "output_type": "display_data"
    }
   ],
   "source": [
    "import numpy as np\n",
    "import matplotlib.pyplot as plt\n",
    "%matplotlib inline\n",
    "\n",
    "x = np.arange(0, 2 * np.pi, 0.1)\n",
    "y_sin = np.sin(x)\n",
    "y_cos = np.cos(x)\n",
    "\n",
    "plt.plot(x, y_sin)\n",
    "plt.show() "
   ]
  },
  {
   "cell_type": "code",
   "execution_count": 107,
   "metadata": {},
   "outputs": [
    {
     "data": {
      "image/png": "[encoded data removed]",
      "text/plain": [
       "<Figure size 432x288 with 1 Axes>"
      ]
     },
     "metadata": {
      "needs_background": "light"
     },
     "output_type": "display_data"
    }
   ],
   "source": [
    "plt.figure() # Create a new figure\n",
    "# Several figures can be included in the same plot\n",
    "plt.plot(x, y_sin)\n",
    "plt.plot(x, y_cos)\n",
    "# It is possible to add labels to the axes, a title and a legend\n",
    "plt.xlabel('x axis label')\n",
    "plt.ylabel('y axis label')\n",
    "plt.title('Sine and Cosine')\n",
    "plt.legend(['Sine', 'Cosine'])\n",
    "plt.show()"
   ]
  },
  {
   "cell_type": "code",
   "execution_count": 18,
   "metadata": {},
   "outputs": [
    {
     "data": {
      "image/png": "[encoded data removed]",
      "text/plain": [
       "<Figure size 640x480 with 2 Axes>"
      ]
     },
     "metadata": {},
     "output_type": "display_data"
    }
   ],
   "source": [
    "# We could also have arranged the two plots in a grid that has height 1 and width 2\n",
    "# This command specifies the grid and sets the first subplot as active.\n",
    "plt.subplot(1, 2, 1)\n",
    "\n",
    "plt.plot(x, y_sin)\n",
    "plt.title('Sine')\n",
    "# Set the second subplot as active\n",
    "plt.subplot(1, 2, 2)\n",
    "plt.plot(x, y_cos)\n",
    "plt.title('Cosine')\n",
    "plt.show()"
   ]
  },
  {
   "cell_type": "markdown",
   "metadata": {},
   "source": [
    "### Exercise\n",
    "A cardiod is a curve with the shape of a 'heart'. It can be defined as\n",
    "$$x(\\phi) = 2a cos(\\phi)(1 - cos(\\phi))$$\n",
    "$$y(\\phi) = 2a sin(\\phi)(1 - cos(\\phi))$$\n",
    "where $a$ is analogous to a radious an $\\phi$ is a vector of angles. \n",
    "\n",
    "Plot a cardioid curve."
   ]
  },
  {
   "cell_type": "markdown",
   "metadata": {},
   "source": [
    "### Exercise\n",
    "Create a grid of plots of 2x2 represing 4 sinusoids with different frequencies."
   ]
  },
  {
   "cell_type": "markdown",
   "metadata": {},
   "source": []
  }
 ],
 "metadata": {
  "kernelspec": {
   "display_name": "base",
   "language": "python",
   "name": "python3"
  },
  "language_info": {
   "codemirror_mode": {
    "name": "ipython",
    "version": 3
   },
   "file_extension": ".py",
   "mimetype": "text/x-python",
   "name": "python",
   "nbconvert_exporter": "python",
   "pygments_lexer": "ipython3",
   "version": "3.12.7"
  }
 },
 "nbformat": 4,
 "nbformat_minor": 4
}
